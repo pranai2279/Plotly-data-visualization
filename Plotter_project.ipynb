{
 "cells": [
  {
   "cell_type": "code",
   "execution_count": 18,
   "metadata": {},
   "outputs": [],
   "source": [
    "import numpy as np\n",
    "import pandas as pd\n",
    "import plotly as pl\n",
    "import cufflinks as cf\n",
    "import plotly.offline as po\n",
    "%matplotlib inline"
   ]
  },
  {
   "cell_type": "code",
   "execution_count": 19,
   "metadata": {},
   "outputs": [
    {
     "data": {
      "text/html": [
       "        <script type=\"text/javascript\">\n",
       "        window.PlotlyConfig = {MathJaxConfig: 'local'};\n",
       "        if (window.MathJax) {MathJax.Hub.Config({SVG: {font: \"STIX-Web\"}});}\n",
       "        if (typeof require !== 'undefined') {\n",
       "        require.undef(\"plotly\");\n",
       "        requirejs.config({\n",
       "            paths: {\n",
       "                'plotly': ['https://cdn.plot.ly/plotly-latest.min']\n",
       "            }\n",
       "        });\n",
       "        require(['plotly'], function(Plotly) {\n",
       "            window._Plotly = Plotly;\n",
       "        });\n",
       "        }\n",
       "        </script>\n",
       "        "
      ]
     },
     "metadata": {},
     "output_type": "display_data"
    }
   ],
   "source": [
    "po.init_notebook_mode(connected=True)"
   ]
  },
  {
   "cell_type": "code",
   "execution_count": 20,
   "metadata": {},
   "outputs": [
    {
     "data": {
      "text/html": [
       "        <script type=\"text/javascript\">\n",
       "        window.PlotlyConfig = {MathJaxConfig: 'local'};\n",
       "        if (window.MathJax) {MathJax.Hub.Config({SVG: {font: \"STIX-Web\"}});}\n",
       "        if (typeof require !== 'undefined') {\n",
       "        require.undef(\"plotly\");\n",
       "        requirejs.config({\n",
       "            paths: {\n",
       "                'plotly': ['https://cdn.plot.ly/plotly-latest.min']\n",
       "            }\n",
       "        });\n",
       "        require(['plotly'], function(Plotly) {\n",
       "            window._Plotly = Plotly;\n",
       "        });\n",
       "        }\n",
       "        </script>\n",
       "        "
      ]
     },
     "metadata": {},
     "output_type": "display_data"
    }
   ],
   "source": [
    "cf.go_offline()"
   ]
  },
  {
   "cell_type": "code",
   "execution_count": 21,
   "metadata": {},
   "outputs": [],
   "source": [
    "def createdata(n):\n",
    "    if n==1:\n",
    "        x = np.random.rand(100,5)\n",
    "        return pd.DataFrame(x,columns=['A','B','C','D','E'])\n",
    "    elif n==2:\n",
    "        col = []\n",
    "        mat = [[0]*5]*4\n",
    "        print('Enter the names of columns(5) :')\n",
    "        for i in range(5):\n",
    "            col.append(input())\n",
    "        for i in range(4):\n",
    "            print('Enter elements of '+str(i+1)+' row :')\n",
    "            for j in range(5):\n",
    "                mat[i][j] = int(input())\n",
    "        return pd.DataFrame(mat,col) \n",
    "    elif n==3:\n",
    "        x = input('Enter the file name : ')\n",
    "        return pd.readcsv(x)\n",
    "    else:\n",
    "        print('Invalid input, try to enter again.')\n",
    "        n = int(input())\n",
    "        createdata(n)"
   ]
  },
  {
   "cell_type": "code",
   "execution_count": 22,
   "metadata": {},
   "outputs": [],
   "source": [
    "def main(c):\n",
    "    if c==1:\n",
    "        print('Select the type of plot you want to plot by entering from 1 to 6 :')\n",
    "        print('1. Line plot\\n2. Scatter plot\\n3. Box plot\\n4. Histogram\\n5. Surface plot\\n6. Bar plot')\n",
    "        cc = int(input())\n",
    "        if cc==1:\n",
    "            df.iplot(kind='scatter')\n",
    "        elif cc==2:\n",
    "            df.iplot(kind='scatter',mode='markers')\n",
    "        elif cc==3:\n",
    "            df.iplot(kind='box')\n",
    "        elif cc==4:\n",
    "            df.iplot(kind='hist')\n",
    "        elif cc==5:\n",
    "            df.iplot(kind='surface')\n",
    "        elif cc==6:\n",
    "            df.iplot(kind='bar')\n",
    "        else:\n",
    "            print('Invalid input, try again.')\n",
    "    elif c==2:\n",
    "        print('Select the type of plot you want to plot by entering from 1 to 6 :')\n",
    "        print('1. Line plot\\n2. Scatter plot\\n3. Box plot\\n4. Histogram\\n5. Surface plot\\n6. Bar plot\\n7. Bubble plot')\n",
    "        cc = int(input())\n",
    "        nc = int(input('Enter number of columns you want to plot(1,2 or 3 only) : '))\n",
    "        if nc==1:\n",
    "            cn = input('Enter the column name you want to plot : ')\n",
    "            if cc==1:\n",
    "                df[cn].iplot(kind='scatter')\n",
    "            elif cc==2:\n",
    "                df[cn].iplot(kind='scatter',mode='markers')\n",
    "            elif cc==3:\n",
    "                df[cn].iplot(kind='box')\n",
    "            elif cc==4:\n",
    "                df[cn].iplot(kind='hist')\n",
    "            elif cc==6:\n",
    "                df[cn].iplot(kind='bar')\n",
    "            elif (cc==5 or cc==7):\n",
    "                print('Bubble plot and surface plot requires more than one column.')\n",
    "            else:\n",
    "                print('Invalid input, try again.')\n",
    "        elif nc==2:\n",
    "            cn1 = input('First column : ')\n",
    "            cn2 = input('Second column : ')\n",
    "            if cc==1:\n",
    "                df[cn1,cn2].iplot(kind='scatter')\n",
    "            elif cc==2:\n",
    "                df[cn1,cn2].iplot(kind='scatter',mode='markers')\n",
    "            elif cc==3:\n",
    "                df[cn1,cn2].iplot(kind='box')\n",
    "            elif cc==4:\n",
    "                df[cn1,cn2].iplot(kind='hist')\n",
    "            elif cc==6:\n",
    "                df[cn1,cn2].iplot(kind='bar')\n",
    "            elif cc==5:\n",
    "                df[cn1,cn2].iplot(kind='surface')\n",
    "            elif cc==7:\n",
    "                size = input('Enter the size column to plot : ')\n",
    "                df.iplot(kind='bubble',x=cn1,y=cn2,size=size)\n",
    "            else:\n",
    "                print('Invalid input, try again.')\n",
    "        elif nc==3:\n",
    "            cn1 = input('First column : ')\n",
    "            cn2 = input('Second column : ')\n",
    "            cn3 = input('Third column : ')\n",
    "            if cc==1:\n",
    "                df[cn1,cn2,cn3].iplot(kind='scatter')\n",
    "            elif cc==2:\n",
    "                df[cn1,cn2,cn3].iplot(kind='scatter',mode='markers')\n",
    "            elif cc==3:\n",
    "                df[cn1,cn2,cn3].iplot(kind='box')\n",
    "            elif cc==4:\n",
    "                df[cn1,cn2,cn3].iplot(kind='hist')\n",
    "            elif cc==6:\n",
    "                df[cn1,cn2,cn3].iplot(kind='bar')\n",
    "            elif cc==5:\n",
    "                df[cn1,cn2,cn3].iplot(kind='surface')\n",
    "            elif cc==7:\n",
    "                size = input('Enter the size column to plot : ')\n",
    "                df.iplot(kind='bubble',x=cn1,y=cn2,z=cn3,size=size)\n",
    "            else:\n",
    "                print('Invalid input, try again.')\n",
    "        else:\n",
    "            print('Invalid input, try again.')\n",
    "    else:\n",
    "        print('Invalid input, try again.')\n",
    "        c = int(input('Enter 1 to plot complete data or 2 for specific columns : '))\n",
    "        main(c)"
   ]
  },
  {
   "cell_type": "code",
   "execution_count": 23,
   "metadata": {},
   "outputs": [
    {
     "name": "stdout",
     "output_type": "stream",
     "text": [
      "Select the type of data you want to enter(by writing 1,2 or 3) :\n",
      "1. Random dataframe with 100 rows and 5 columns.\n",
      "2. Create customize data using 4 rows and 5 columns.\n",
      "3. Upload any csv/json/text file.\n",
      "\n",
      "1\n"
     ]
    }
   ],
   "source": [
    "print('Select the type of data you want to enter(by writing 1,2 or 3) :')\n",
    "print('1. Random dataframe with 100 rows and 5 columns.')\n",
    "print('2. Create customize data using 4 rows and 5 columns.')\n",
    "print('3. Upload any csv/json/text file.\\n')\n",
    "n = int(input())\n",
    "df = createdata(n)"
   ]
  },
  {
   "cell_type": "code",
   "execution_count": 24,
   "metadata": {},
   "outputs": [
    {
     "data": {
      "text/html": [
       "<div>\n",
       "<style scoped>\n",
       "    .dataframe tbody tr th:only-of-type {\n",
       "        vertical-align: middle;\n",
       "    }\n",
       "\n",
       "    .dataframe tbody tr th {\n",
       "        vertical-align: top;\n",
       "    }\n",
       "\n",
       "    .dataframe thead th {\n",
       "        text-align: right;\n",
       "    }\n",
       "</style>\n",
       "<table border=\"1\" class=\"dataframe\">\n",
       "  <thead>\n",
       "    <tr style=\"text-align: right;\">\n",
       "      <th></th>\n",
       "      <th>A</th>\n",
       "      <th>B</th>\n",
       "      <th>C</th>\n",
       "      <th>D</th>\n",
       "      <th>E</th>\n",
       "    </tr>\n",
       "  </thead>\n",
       "  <tbody>\n",
       "    <tr>\n",
       "      <th>0</th>\n",
       "      <td>0.873748</td>\n",
       "      <td>0.405531</td>\n",
       "      <td>0.907218</td>\n",
       "      <td>0.129531</td>\n",
       "      <td>0.274834</td>\n",
       "    </tr>\n",
       "    <tr>\n",
       "      <th>1</th>\n",
       "      <td>0.598771</td>\n",
       "      <td>0.848400</td>\n",
       "      <td>0.498591</td>\n",
       "      <td>0.156136</td>\n",
       "      <td>0.652447</td>\n",
       "    </tr>\n",
       "    <tr>\n",
       "      <th>2</th>\n",
       "      <td>0.367156</td>\n",
       "      <td>0.867073</td>\n",
       "      <td>0.243901</td>\n",
       "      <td>0.652582</td>\n",
       "      <td>0.164388</td>\n",
       "    </tr>\n",
       "    <tr>\n",
       "      <th>3</th>\n",
       "      <td>0.839440</td>\n",
       "      <td>0.195374</td>\n",
       "      <td>0.074366</td>\n",
       "      <td>0.593441</td>\n",
       "      <td>0.022905</td>\n",
       "    </tr>\n",
       "    <tr>\n",
       "      <th>4</th>\n",
       "      <td>0.282322</td>\n",
       "      <td>0.203630</td>\n",
       "      <td>0.190223</td>\n",
       "      <td>0.774741</td>\n",
       "      <td>0.166479</td>\n",
       "    </tr>\n",
       "  </tbody>\n",
       "</table>\n",
       "</div>"
      ],
      "text/plain": [
       "          A         B         C         D         E\n",
       "0  0.873748  0.405531  0.907218  0.129531  0.274834\n",
       "1  0.598771  0.848400  0.498591  0.156136  0.652447\n",
       "2  0.367156  0.867073  0.243901  0.652582  0.164388\n",
       "3  0.839440  0.195374  0.074366  0.593441  0.022905\n",
       "4  0.282322  0.203630  0.190223  0.774741  0.166479"
      ]
     },
     "execution_count": 24,
     "metadata": {},
     "output_type": "execute_result"
    }
   ],
   "source": [
    "df.head()"
   ]
  },
  {
   "cell_type": "code",
   "execution_count": 32,
   "metadata": {},
   "outputs": [
    {
     "name": "stdout",
     "output_type": "stream",
     "text": [
      "Do you need to plot for complete data or for specific columns\n",
      "Enter 1 to plot complete data or 2 for specific columns : 2\n"
     ]
    }
   ],
   "source": [
    "print('Do you need to plot for complete data or for specific columns')\n",
    "c = int(input('Enter 1 to plot complete data or 2 for specific columns : '))"
   ]
  },
  {
   "cell_type": "code",
   "execution_count": 33,
   "metadata": {},
   "outputs": [
    {
     "name": "stdout",
     "output_type": "stream",
     "text": [
      "Select the type of plot you want to plot by entering from 1 to 6 :\n",
      "1. Line plot\n",
      "2. Scatter plot\n",
      "3. Box plot\n",
      "4. Histogram\n",
      "5. Surface plot\n",
      "6. Bar plot\n",
      "7. Bubble plot\n",
      "7\n",
      "Enter number of columns you want to plot(1,2 or 3 only) : 2\n",
      "First column : A\n",
      "Second column : B\n",
      "Enter the size column to plot : D\n"
     ]
    },
    {
     "data": {
      "application/vnd.plotly.v1+json": {
       "config": {
        "linkText": "Export to plot.ly",
        "plotlyServerURL": "https://plot.ly",
        "showLink": true
       },
       "data": [
        {
         "marker": {
          "color": [
           "rgb(255, 153, 51)",
           "rgb(55, 128, 191)",
           "rgb(50, 171, 96)",
           "rgb(128, 0, 128)",
           "rgb(219, 64, 82)",
           "rgb(0, 128, 128)",
           "rgb(255, 255, 51)",
           "rgb(128, 128, 0)",
           "rgb(251, 128, 114)",
           "rgb(128, 177, 211)"
          ],
          "line": {
           "width": 1.3
          },
          "size": [
           23,
           26,
           78,
           72,
           91,
           105,
           94,
           87,
           31,
           91,
           76,
           41,
           59,
           99,
           55,
           59,
           90,
           99,
           112,
           38,
           31,
           78,
           106,
           51,
           33,
           104,
           60,
           67,
           92,
           105,
           59,
           96,
           54,
           32,
           48,
           54,
           20,
           15,
           107,
           22,
           30,
           102,
           84,
           57,
           82,
           19,
           90,
           53,
           86,
           97,
           98,
           93,
           35,
           13,
           91,
           103,
           12,
           54,
           29,
           22,
           37,
           87,
           51,
           30,
           101,
           48,
           110,
           90,
           12,
           51,
           44,
           109,
           23,
           99,
           97,
           64,
           38,
           54,
           20,
           46,
           100,
           70,
           69,
           84,
           32,
           72,
           32,
           55,
           104,
           35,
           44,
           33,
           103,
           67,
           62,
           28,
           75,
           67,
           83,
           50
          ],
          "symbol": "circle"
         },
         "mode": "markers",
         "text": "",
         "type": "scatter",
         "x": [
          0.873748461890051,
          0.5987714845596314,
          0.3671563000955931,
          0.8394400497856157,
          0.2823220602557086,
          0.7316998418161292,
          0.5797200466820187,
          0.3617341680234035,
          0.7155256263279793,
          0.5665111724618043,
          0.1145970843769909,
          0.45756164359093876,
          0.9860198442932127,
          0.3180060447442733,
          0.5616332449507973,
          0.8245567190981696,
          0.7148936754837062,
          0.13657673208574717,
          0.28933915478005057,
          0.386701215788235,
          0.01295826756296814,
          0.35105039541479843,
          0.6787478047107682,
          0.7908858052062008,
          0.49580528171608695,
          0.3570998317406192,
          0.3005717833437901,
          0.15458907106193365,
          0.856741689596516,
          0.7544286019833237,
          0.6603767617921716,
          0.5173758213472637,
          0.09578489040889693,
          0.23188840499467045,
          0.07080025821871117,
          0.8460306397984023,
          0.788271257588985,
          0.532732611897746,
          0.68424432472002,
          0.982759630979537,
          0.8779371262784793,
          0.11450666332668014,
          0.18121911904779653,
          0.6204188465612837,
          0.18878956147015136,
          0.033218749029039873,
          0.022030238608182207,
          0.23154295290574234,
          0.7074049936303541,
          0.4340528896067549,
          0.15337435030359037,
          0.6987934685292402,
          0.8880795198906974,
          0.6613087162873075,
          0.23550464338208987,
          0.37054782212848625,
          0.6494579654841391,
          0.7757948698550873,
          0.6445444307693214,
          0.06973150148181217,
          0.03846406251287193,
          0.9950367588873127,
          0.3468925568666209,
          0.5758332734776788,
          0.9719637103630588,
          0.39055022442896214,
          0.3839460491137968,
          0.2591309635588208,
          0.11054416310606097,
          0.74578015079884,
          0.42024871775838535,
          0.1382479616956318,
          0.8776917301785457,
          0.23223914535841395,
          0.9099440902211464,
          0.08620619942919272,
          0.5909679540416579,
          0.40451109513415706,
          0.810063419703292,
          0.8243942356376723,
          0.4610548187876594,
          0.4330239658584466,
          0.6870615324365069,
          0.5750227462009487,
          0.34128240166709745,
          0.06111611737342992,
          0.052591806345567704,
          0.8516720747075933,
          0.6092371182830882,
          0.025278571553963403,
          0.34538130159985003,
          0.0685602464261873,
          0.10831963766531061,
          0.32870030180618104,
          0.6891328262754615,
          0.01324268158006825,
          0.37509879395284984,
          0.290596200565703,
          0.5400460323341435,
          0.8226622947655637
         ],
         "y": [
          0.4055308098405257,
          0.8483998495804014,
          0.8670732484535973,
          0.19537443126007492,
          0.20362998228077422,
          0.13124876554484388,
          0.2402697283257741,
          0.17286058548094096,
          0.01031355789886157,
          0.923724002259692,
          0.5448871081410586,
          0.9468216294281898,
          0.6796657063510602,
          0.08847714560691455,
          0.734362158918962,
          0.061968214576133995,
          0.3147579178769946,
          0.7855552807178572,
          0.16217131966666365,
          0.29097651049999174,
          0.004828099077715198,
          0.428082700388568,
          0.8001359139962249,
          0.051853955627750414,
          0.28979295088505685,
          0.8633871222439231,
          0.3327451009445861,
          0.015480512745564168,
          0.4383658973645317,
          0.936702668451681,
          0.4739037565862738,
          0.7874994562680696,
          0.8759781571658715,
          0.42971326611976235,
          0.5139775329092033,
          0.8024674302953564,
          0.6060561188279192,
          0.7742507595938857,
          0.15499624697954595,
          0.06441752144667245,
          0.8310852908365552,
          0.5110003517090476,
          0.5684223704982458,
          0.5762111096763527,
          0.5880866544896113,
          0.9660115996616871,
          0.4209678009912736,
          0.5132339663472961,
          0.13726678532727576,
          0.21710017594664577,
          0.4645834260762679,
          0.12918708193125983,
          0.4852766174459686,
          0.09626340290826296,
          0.0398078712900527,
          0.5854421449121235,
          0.14511202419259295,
          0.6538905066154626,
          0.810004577491391,
          0.8998927240418527,
          0.6727001299875739,
          0.5512452263319173,
          0.7974968724503568,
          0.8473352307131801,
          0.8701675461872121,
          0.018266950333666543,
          0.8766163247551316,
          0.7013540039937247,
          0.21714258878802173,
          0.581391474190881,
          0.3172302434715608,
          0.9433625330628288,
          0.6085231987989955,
          0.1954602301490559,
          0.35978823247649927,
          0.22337814713185322,
          0.6824925126228524,
          0.019079723895340406,
          0.9465337036553744,
          0.3653898429627682,
          0.972263302859664,
          0.6176785569506619,
          0.3979621200201996,
          0.7706935305609344,
          0.8123973118642757,
          0.3536564720463592,
          0.44094343771341726,
          0.8532571513614204,
          0.06283071889933567,
          0.6991453760417807,
          0.844281900629812,
          0.9402236520074541,
          0.6876865837508778,
          0.44141220751146093,
          0.7778900382257412,
          0.4546691945373107,
          0.13166623954062362,
          0.7849988653643057,
          0.024558136983723777,
          0.6006501050047375
         ]
        }
       ],
       "layout": {
        "legend": {
         "bgcolor": "#F5F6F9",
         "font": {
          "color": "#4D5663"
         }
        },
        "paper_bgcolor": "#F5F6F9",
        "plot_bgcolor": "#F5F6F9",
        "template": {
         "data": {
          "bar": [
           {
            "error_x": {
             "color": "#2a3f5f"
            },
            "error_y": {
             "color": "#2a3f5f"
            },
            "marker": {
             "line": {
              "color": "#E5ECF6",
              "width": 0.5
             }
            },
            "type": "bar"
           }
          ],
          "barpolar": [
           {
            "marker": {
             "line": {
              "color": "#E5ECF6",
              "width": 0.5
             }
            },
            "type": "barpolar"
           }
          ],
          "carpet": [
           {
            "aaxis": {
             "endlinecolor": "#2a3f5f",
             "gridcolor": "white",
             "linecolor": "white",
             "minorgridcolor": "white",
             "startlinecolor": "#2a3f5f"
            },
            "baxis": {
             "endlinecolor": "#2a3f5f",
             "gridcolor": "white",
             "linecolor": "white",
             "minorgridcolor": "white",
             "startlinecolor": "#2a3f5f"
            },
            "type": "carpet"
           }
          ],
          "choropleth": [
           {
            "colorbar": {
             "outlinewidth": 0,
             "ticks": ""
            },
            "type": "choropleth"
           }
          ],
          "contour": [
           {
            "colorbar": {
             "outlinewidth": 0,
             "ticks": ""
            },
            "colorscale": [
             [
              0,
              "#0d0887"
             ],
             [
              0.1111111111111111,
              "#46039f"
             ],
             [
              0.2222222222222222,
              "#7201a8"
             ],
             [
              0.3333333333333333,
              "#9c179e"
             ],
             [
              0.4444444444444444,
              "#bd3786"
             ],
             [
              0.5555555555555556,
              "#d8576b"
             ],
             [
              0.6666666666666666,
              "#ed7953"
             ],
             [
              0.7777777777777778,
              "#fb9f3a"
             ],
             [
              0.8888888888888888,
              "#fdca26"
             ],
             [
              1,
              "#f0f921"
             ]
            ],
            "type": "contour"
           }
          ],
          "contourcarpet": [
           {
            "colorbar": {
             "outlinewidth": 0,
             "ticks": ""
            },
            "type": "contourcarpet"
           }
          ],
          "heatmap": [
           {
            "colorbar": {
             "outlinewidth": 0,
             "ticks": ""
            },
            "colorscale": [
             [
              0,
              "#0d0887"
             ],
             [
              0.1111111111111111,
              "#46039f"
             ],
             [
              0.2222222222222222,
              "#7201a8"
             ],
             [
              0.3333333333333333,
              "#9c179e"
             ],
             [
              0.4444444444444444,
              "#bd3786"
             ],
             [
              0.5555555555555556,
              "#d8576b"
             ],
             [
              0.6666666666666666,
              "#ed7953"
             ],
             [
              0.7777777777777778,
              "#fb9f3a"
             ],
             [
              0.8888888888888888,
              "#fdca26"
             ],
             [
              1,
              "#f0f921"
             ]
            ],
            "type": "heatmap"
           }
          ],
          "heatmapgl": [
           {
            "colorbar": {
             "outlinewidth": 0,
             "ticks": ""
            },
            "colorscale": [
             [
              0,
              "#0d0887"
             ],
             [
              0.1111111111111111,
              "#46039f"
             ],
             [
              0.2222222222222222,
              "#7201a8"
             ],
             [
              0.3333333333333333,
              "#9c179e"
             ],
             [
              0.4444444444444444,
              "#bd3786"
             ],
             [
              0.5555555555555556,
              "#d8576b"
             ],
             [
              0.6666666666666666,
              "#ed7953"
             ],
             [
              0.7777777777777778,
              "#fb9f3a"
             ],
             [
              0.8888888888888888,
              "#fdca26"
             ],
             [
              1,
              "#f0f921"
             ]
            ],
            "type": "heatmapgl"
           }
          ],
          "histogram": [
           {
            "marker": {
             "colorbar": {
              "outlinewidth": 0,
              "ticks": ""
             }
            },
            "type": "histogram"
           }
          ],
          "histogram2d": [
           {
            "colorbar": {
             "outlinewidth": 0,
             "ticks": ""
            },
            "colorscale": [
             [
              0,
              "#0d0887"
             ],
             [
              0.1111111111111111,
              "#46039f"
             ],
             [
              0.2222222222222222,
              "#7201a8"
             ],
             [
              0.3333333333333333,
              "#9c179e"
             ],
             [
              0.4444444444444444,
              "#bd3786"
             ],
             [
              0.5555555555555556,
              "#d8576b"
             ],
             [
              0.6666666666666666,
              "#ed7953"
             ],
             [
              0.7777777777777778,
              "#fb9f3a"
             ],
             [
              0.8888888888888888,
              "#fdca26"
             ],
             [
              1,
              "#f0f921"
             ]
            ],
            "type": "histogram2d"
           }
          ],
          "histogram2dcontour": [
           {
            "colorbar": {
             "outlinewidth": 0,
             "ticks": ""
            },
            "colorscale": [
             [
              0,
              "#0d0887"
             ],
             [
              0.1111111111111111,
              "#46039f"
             ],
             [
              0.2222222222222222,
              "#7201a8"
             ],
             [
              0.3333333333333333,
              "#9c179e"
             ],
             [
              0.4444444444444444,
              "#bd3786"
             ],
             [
              0.5555555555555556,
              "#d8576b"
             ],
             [
              0.6666666666666666,
              "#ed7953"
             ],
             [
              0.7777777777777778,
              "#fb9f3a"
             ],
             [
              0.8888888888888888,
              "#fdca26"
             ],
             [
              1,
              "#f0f921"
             ]
            ],
            "type": "histogram2dcontour"
           }
          ],
          "mesh3d": [
           {
            "colorbar": {
             "outlinewidth": 0,
             "ticks": ""
            },
            "type": "mesh3d"
           }
          ],
          "parcoords": [
           {
            "line": {
             "colorbar": {
              "outlinewidth": 0,
              "ticks": ""
             }
            },
            "type": "parcoords"
           }
          ],
          "pie": [
           {
            "automargin": true,
            "type": "pie"
           }
          ],
          "scatter": [
           {
            "marker": {
             "colorbar": {
              "outlinewidth": 0,
              "ticks": ""
             }
            },
            "type": "scatter"
           }
          ],
          "scatter3d": [
           {
            "line": {
             "colorbar": {
              "outlinewidth": 0,
              "ticks": ""
             }
            },
            "marker": {
             "colorbar": {
              "outlinewidth": 0,
              "ticks": ""
             }
            },
            "type": "scatter3d"
           }
          ],
          "scattercarpet": [
           {
            "marker": {
             "colorbar": {
              "outlinewidth": 0,
              "ticks": ""
             }
            },
            "type": "scattercarpet"
           }
          ],
          "scattergeo": [
           {
            "marker": {
             "colorbar": {
              "outlinewidth": 0,
              "ticks": ""
             }
            },
            "type": "scattergeo"
           }
          ],
          "scattergl": [
           {
            "marker": {
             "colorbar": {
              "outlinewidth": 0,
              "ticks": ""
             }
            },
            "type": "scattergl"
           }
          ],
          "scattermapbox": [
           {
            "marker": {
             "colorbar": {
              "outlinewidth": 0,
              "ticks": ""
             }
            },
            "type": "scattermapbox"
           }
          ],
          "scatterpolar": [
           {
            "marker": {
             "colorbar": {
              "outlinewidth": 0,
              "ticks": ""
             }
            },
            "type": "scatterpolar"
           }
          ],
          "scatterpolargl": [
           {
            "marker": {
             "colorbar": {
              "outlinewidth": 0,
              "ticks": ""
             }
            },
            "type": "scatterpolargl"
           }
          ],
          "scatterternary": [
           {
            "marker": {
             "colorbar": {
              "outlinewidth": 0,
              "ticks": ""
             }
            },
            "type": "scatterternary"
           }
          ],
          "surface": [
           {
            "colorbar": {
             "outlinewidth": 0,
             "ticks": ""
            },
            "colorscale": [
             [
              0,
              "#0d0887"
             ],
             [
              0.1111111111111111,
              "#46039f"
             ],
             [
              0.2222222222222222,
              "#7201a8"
             ],
             [
              0.3333333333333333,
              "#9c179e"
             ],
             [
              0.4444444444444444,
              "#bd3786"
             ],
             [
              0.5555555555555556,
              "#d8576b"
             ],
             [
              0.6666666666666666,
              "#ed7953"
             ],
             [
              0.7777777777777778,
              "#fb9f3a"
             ],
             [
              0.8888888888888888,
              "#fdca26"
             ],
             [
              1,
              "#f0f921"
             ]
            ],
            "type": "surface"
           }
          ],
          "table": [
           {
            "cells": {
             "fill": {
              "color": "#EBF0F8"
             },
             "line": {
              "color": "white"
             }
            },
            "header": {
             "fill": {
              "color": "#C8D4E3"
             },
             "line": {
              "color": "white"
             }
            },
            "type": "table"
           }
          ]
         },
         "layout": {
          "annotationdefaults": {
           "arrowcolor": "#2a3f5f",
           "arrowhead": 0,
           "arrowwidth": 1
          },
          "coloraxis": {
           "colorbar": {
            "outlinewidth": 0,
            "ticks": ""
           }
          },
          "colorscale": {
           "diverging": [
            [
             0,
             "#8e0152"
            ],
            [
             0.1,
             "#c51b7d"
            ],
            [
             0.2,
             "#de77ae"
            ],
            [
             0.3,
             "#f1b6da"
            ],
            [
             0.4,
             "#fde0ef"
            ],
            [
             0.5,
             "#f7f7f7"
            ],
            [
             0.6,
             "#e6f5d0"
            ],
            [
             0.7,
             "#b8e186"
            ],
            [
             0.8,
             "#7fbc41"
            ],
            [
             0.9,
             "#4d9221"
            ],
            [
             1,
             "#276419"
            ]
           ],
           "sequential": [
            [
             0,
             "#0d0887"
            ],
            [
             0.1111111111111111,
             "#46039f"
            ],
            [
             0.2222222222222222,
             "#7201a8"
            ],
            [
             0.3333333333333333,
             "#9c179e"
            ],
            [
             0.4444444444444444,
             "#bd3786"
            ],
            [
             0.5555555555555556,
             "#d8576b"
            ],
            [
             0.6666666666666666,
             "#ed7953"
            ],
            [
             0.7777777777777778,
             "#fb9f3a"
            ],
            [
             0.8888888888888888,
             "#fdca26"
            ],
            [
             1,
             "#f0f921"
            ]
           ],
           "sequentialminus": [
            [
             0,
             "#0d0887"
            ],
            [
             0.1111111111111111,
             "#46039f"
            ],
            [
             0.2222222222222222,
             "#7201a8"
            ],
            [
             0.3333333333333333,
             "#9c179e"
            ],
            [
             0.4444444444444444,
             "#bd3786"
            ],
            [
             0.5555555555555556,
             "#d8576b"
            ],
            [
             0.6666666666666666,
             "#ed7953"
            ],
            [
             0.7777777777777778,
             "#fb9f3a"
            ],
            [
             0.8888888888888888,
             "#fdca26"
            ],
            [
             1,
             "#f0f921"
            ]
           ]
          },
          "colorway": [
           "#636efa",
           "#EF553B",
           "#00cc96",
           "#ab63fa",
           "#FFA15A",
           "#19d3f3",
           "#FF6692",
           "#B6E880",
           "#FF97FF",
           "#FECB52"
          ],
          "font": {
           "color": "#2a3f5f"
          },
          "geo": {
           "bgcolor": "white",
           "lakecolor": "white",
           "landcolor": "#E5ECF6",
           "showlakes": true,
           "showland": true,
           "subunitcolor": "white"
          },
          "hoverlabel": {
           "align": "left"
          },
          "hovermode": "closest",
          "mapbox": {
           "style": "light"
          },
          "paper_bgcolor": "white",
          "plot_bgcolor": "#E5ECF6",
          "polar": {
           "angularaxis": {
            "gridcolor": "white",
            "linecolor": "white",
            "ticks": ""
           },
           "bgcolor": "#E5ECF6",
           "radialaxis": {
            "gridcolor": "white",
            "linecolor": "white",
            "ticks": ""
           }
          },
          "scene": {
           "xaxis": {
            "backgroundcolor": "#E5ECF6",
            "gridcolor": "white",
            "gridwidth": 2,
            "linecolor": "white",
            "showbackground": true,
            "ticks": "",
            "zerolinecolor": "white"
           },
           "yaxis": {
            "backgroundcolor": "#E5ECF6",
            "gridcolor": "white",
            "gridwidth": 2,
            "linecolor": "white",
            "showbackground": true,
            "ticks": "",
            "zerolinecolor": "white"
           },
           "zaxis": {
            "backgroundcolor": "#E5ECF6",
            "gridcolor": "white",
            "gridwidth": 2,
            "linecolor": "white",
            "showbackground": true,
            "ticks": "",
            "zerolinecolor": "white"
           }
          },
          "shapedefaults": {
           "line": {
            "color": "#2a3f5f"
           }
          },
          "ternary": {
           "aaxis": {
            "gridcolor": "white",
            "linecolor": "white",
            "ticks": ""
           },
           "baxis": {
            "gridcolor": "white",
            "linecolor": "white",
            "ticks": ""
           },
           "bgcolor": "#E5ECF6",
           "caxis": {
            "gridcolor": "white",
            "linecolor": "white",
            "ticks": ""
           }
          },
          "title": {
           "x": 0.05
          },
          "xaxis": {
           "automargin": true,
           "gridcolor": "white",
           "linecolor": "white",
           "ticks": "",
           "title": {
            "standoff": 15
           },
           "zerolinecolor": "white",
           "zerolinewidth": 2
          },
          "yaxis": {
           "automargin": true,
           "gridcolor": "white",
           "linecolor": "white",
           "ticks": "",
           "title": {
            "standoff": 15
           },
           "zerolinecolor": "white",
           "zerolinewidth": 2
          }
         }
        },
        "title": {
         "font": {
          "color": "#4D5663"
         }
        },
        "xaxis": {
         "gridcolor": "#E1E5ED",
         "showgrid": true,
         "tickfont": {
          "color": "#4D5663"
         },
         "title": {
          "font": {
           "color": "#4D5663"
          },
          "text": ""
         },
         "zerolinecolor": "#E1E5ED"
        },
        "yaxis": {
         "gridcolor": "#E1E5ED",
         "showgrid": true,
         "tickfont": {
          "color": "#4D5663"
         },
         "title": {
          "font": {
           "color": "#4D5663"
          },
          "text": ""
         },
         "zerolinecolor": "#E1E5ED"
        }
       }
      },
      "text/html": [
       "<div>\n",
       "        \n",
       "        \n",
       "            <div id=\"fcf0c2c9-e03b-41db-91a5-41b755c8fb0f\" class=\"plotly-graph-div\" style=\"height:525px; width:100%;\"></div>\n",
       "            <script type=\"text/javascript\">\n",
       "                require([\"plotly\"], function(Plotly) {\n",
       "                    window.PLOTLYENV=window.PLOTLYENV || {};\n",
       "                    window.PLOTLYENV.BASE_URL='https://plot.ly';\n",
       "                    \n",
       "                if (document.getElementById(\"fcf0c2c9-e03b-41db-91a5-41b755c8fb0f\")) {\n",
       "                    Plotly.newPlot(\n",
       "                        'fcf0c2c9-e03b-41db-91a5-41b755c8fb0f',\n",
       "                        [{\"marker\": {\"color\": [\"rgb(255, 153, 51)\", \"rgb(55, 128, 191)\", \"rgb(50, 171, 96)\", \"rgb(128, 0, 128)\", \"rgb(219, 64, 82)\", \"rgb(0, 128, 128)\", \"rgb(255, 255, 51)\", \"rgb(128, 128, 0)\", \"rgb(251, 128, 114)\", \"rgb(128, 177, 211)\"], \"line\": {\"width\": 1.3}, \"size\": [23, 26, 78, 72, 91, 105, 94, 87, 31, 91, 76, 41, 59, 99, 55, 59, 90, 99, 112, 38, 31, 78, 106, 51, 33, 104, 60, 67, 92, 105, 59, 96, 54, 32, 48, 54, 20, 15, 107, 22, 30, 102, 84, 57, 82, 19, 90, 53, 86, 97, 98, 93, 35, 13, 91, 103, 12, 54, 29, 22, 37, 87, 51, 30, 101, 48, 110, 90, 12, 51, 44, 109, 23, 99, 97, 64, 38, 54, 20, 46, 100, 70, 69, 84, 32, 72, 32, 55, 104, 35, 44, 33, 103, 67, 62, 28, 75, 67, 83, 50], \"symbol\": \"circle\"}, \"mode\": \"markers\", \"text\": \"\", \"type\": \"scatter\", \"x\": [0.873748461890051, 0.5987714845596314, 0.3671563000955931, 0.8394400497856157, 0.2823220602557086, 0.7316998418161292, 0.5797200466820187, 0.3617341680234035, 0.7155256263279793, 0.5665111724618043, 0.1145970843769909, 0.45756164359093876, 0.9860198442932127, 0.3180060447442733, 0.5616332449507973, 0.8245567190981696, 0.7148936754837062, 0.13657673208574717, 0.28933915478005057, 0.386701215788235, 0.01295826756296814, 0.35105039541479843, 0.6787478047107682, 0.7908858052062008, 0.49580528171608695, 0.3570998317406192, 0.3005717833437901, 0.15458907106193365, 0.856741689596516, 0.7544286019833237, 0.6603767617921716, 0.5173758213472637, 0.09578489040889693, 0.23188840499467045, 0.07080025821871117, 0.8460306397984023, 0.788271257588985, 0.532732611897746, 0.68424432472002, 0.982759630979537, 0.8779371262784793, 0.11450666332668014, 0.18121911904779653, 0.6204188465612837, 0.18878956147015136, 0.033218749029039873, 0.022030238608182207, 0.23154295290574234, 0.7074049936303541, 0.4340528896067549, 0.15337435030359037, 0.6987934685292402, 0.8880795198906974, 0.6613087162873075, 0.23550464338208987, 0.37054782212848625, 0.6494579654841391, 0.7757948698550873, 0.6445444307693214, 0.06973150148181217, 0.03846406251287193, 0.9950367588873127, 0.3468925568666209, 0.5758332734776788, 0.9719637103630588, 0.39055022442896214, 0.3839460491137968, 0.2591309635588208, 0.11054416310606097, 0.74578015079884, 0.42024871775838535, 0.1382479616956318, 0.8776917301785457, 0.23223914535841395, 0.9099440902211464, 0.08620619942919272, 0.5909679540416579, 0.40451109513415706, 0.810063419703292, 0.8243942356376723, 0.4610548187876594, 0.4330239658584466, 0.6870615324365069, 0.5750227462009487, 0.34128240166709745, 0.06111611737342992, 0.052591806345567704, 0.8516720747075933, 0.6092371182830882, 0.025278571553963403, 0.34538130159985003, 0.0685602464261873, 0.10831963766531061, 0.32870030180618104, 0.6891328262754615, 0.01324268158006825, 0.37509879395284984, 0.290596200565703, 0.5400460323341435, 0.8226622947655637], \"y\": [0.4055308098405257, 0.8483998495804014, 0.8670732484535973, 0.19537443126007492, 0.20362998228077422, 0.13124876554484388, 0.2402697283257741, 0.17286058548094096, 0.01031355789886157, 0.923724002259692, 0.5448871081410586, 0.9468216294281898, 0.6796657063510602, 0.08847714560691455, 0.734362158918962, 0.061968214576133995, 0.3147579178769946, 0.7855552807178572, 0.16217131966666365, 0.29097651049999174, 0.004828099077715198, 0.428082700388568, 0.8001359139962249, 0.051853955627750414, 0.28979295088505685, 0.8633871222439231, 0.3327451009445861, 0.015480512745564168, 0.4383658973645317, 0.936702668451681, 0.4739037565862738, 0.7874994562680696, 0.8759781571658715, 0.42971326611976235, 0.5139775329092033, 0.8024674302953564, 0.6060561188279192, 0.7742507595938857, 0.15499624697954595, 0.06441752144667245, 0.8310852908365552, 0.5110003517090476, 0.5684223704982458, 0.5762111096763527, 0.5880866544896113, 0.9660115996616871, 0.4209678009912736, 0.5132339663472961, 0.13726678532727576, 0.21710017594664577, 0.4645834260762679, 0.12918708193125983, 0.4852766174459686, 0.09626340290826296, 0.0398078712900527, 0.5854421449121235, 0.14511202419259295, 0.6538905066154626, 0.810004577491391, 0.8998927240418527, 0.6727001299875739, 0.5512452263319173, 0.7974968724503568, 0.8473352307131801, 0.8701675461872121, 0.018266950333666543, 0.8766163247551316, 0.7013540039937247, 0.21714258878802173, 0.581391474190881, 0.3172302434715608, 0.9433625330628288, 0.6085231987989955, 0.1954602301490559, 0.35978823247649927, 0.22337814713185322, 0.6824925126228524, 0.019079723895340406, 0.9465337036553744, 0.3653898429627682, 0.972263302859664, 0.6176785569506619, 0.3979621200201996, 0.7706935305609344, 0.8123973118642757, 0.3536564720463592, 0.44094343771341726, 0.8532571513614204, 0.06283071889933567, 0.6991453760417807, 0.844281900629812, 0.9402236520074541, 0.6876865837508778, 0.44141220751146093, 0.7778900382257412, 0.4546691945373107, 0.13166623954062362, 0.7849988653643057, 0.024558136983723777, 0.6006501050047375]}],\n",
       "                        {\"legend\": {\"bgcolor\": \"#F5F6F9\", \"font\": {\"color\": \"#4D5663\"}}, \"paper_bgcolor\": \"#F5F6F9\", \"plot_bgcolor\": \"#F5F6F9\", \"template\": {\"data\": {\"bar\": [{\"error_x\": {\"color\": \"#2a3f5f\"}, \"error_y\": {\"color\": \"#2a3f5f\"}, \"marker\": {\"line\": {\"color\": \"#E5ECF6\", \"width\": 0.5}}, \"type\": \"bar\"}], \"barpolar\": [{\"marker\": {\"line\": {\"color\": \"#E5ECF6\", \"width\": 0.5}}, \"type\": \"barpolar\"}], \"carpet\": [{\"aaxis\": {\"endlinecolor\": \"#2a3f5f\", \"gridcolor\": \"white\", \"linecolor\": \"white\", \"minorgridcolor\": \"white\", \"startlinecolor\": \"#2a3f5f\"}, \"baxis\": {\"endlinecolor\": \"#2a3f5f\", \"gridcolor\": \"white\", \"linecolor\": \"white\", \"minorgridcolor\": \"white\", \"startlinecolor\": \"#2a3f5f\"}, \"type\": \"carpet\"}], \"choropleth\": [{\"colorbar\": {\"outlinewidth\": 0, \"ticks\": \"\"}, \"type\": \"choropleth\"}], \"contour\": [{\"colorbar\": {\"outlinewidth\": 0, \"ticks\": \"\"}, \"colorscale\": [[0.0, \"#0d0887\"], [0.1111111111111111, \"#46039f\"], [0.2222222222222222, \"#7201a8\"], [0.3333333333333333, \"#9c179e\"], [0.4444444444444444, \"#bd3786\"], [0.5555555555555556, \"#d8576b\"], [0.6666666666666666, \"#ed7953\"], [0.7777777777777778, \"#fb9f3a\"], [0.8888888888888888, \"#fdca26\"], [1.0, \"#f0f921\"]], \"type\": \"contour\"}], \"contourcarpet\": [{\"colorbar\": {\"outlinewidth\": 0, \"ticks\": \"\"}, \"type\": \"contourcarpet\"}], \"heatmap\": [{\"colorbar\": {\"outlinewidth\": 0, \"ticks\": \"\"}, \"colorscale\": [[0.0, \"#0d0887\"], [0.1111111111111111, \"#46039f\"], [0.2222222222222222, \"#7201a8\"], [0.3333333333333333, \"#9c179e\"], [0.4444444444444444, \"#bd3786\"], [0.5555555555555556, \"#d8576b\"], [0.6666666666666666, \"#ed7953\"], [0.7777777777777778, \"#fb9f3a\"], [0.8888888888888888, \"#fdca26\"], [1.0, \"#f0f921\"]], \"type\": \"heatmap\"}], \"heatmapgl\": [{\"colorbar\": {\"outlinewidth\": 0, \"ticks\": \"\"}, \"colorscale\": [[0.0, \"#0d0887\"], [0.1111111111111111, \"#46039f\"], [0.2222222222222222, \"#7201a8\"], [0.3333333333333333, \"#9c179e\"], [0.4444444444444444, \"#bd3786\"], [0.5555555555555556, \"#d8576b\"], [0.6666666666666666, \"#ed7953\"], [0.7777777777777778, \"#fb9f3a\"], [0.8888888888888888, \"#fdca26\"], [1.0, \"#f0f921\"]], \"type\": \"heatmapgl\"}], \"histogram\": [{\"marker\": {\"colorbar\": {\"outlinewidth\": 0, \"ticks\": \"\"}}, \"type\": \"histogram\"}], \"histogram2d\": [{\"colorbar\": {\"outlinewidth\": 0, \"ticks\": \"\"}, \"colorscale\": [[0.0, \"#0d0887\"], [0.1111111111111111, \"#46039f\"], [0.2222222222222222, \"#7201a8\"], [0.3333333333333333, \"#9c179e\"], [0.4444444444444444, \"#bd3786\"], [0.5555555555555556, \"#d8576b\"], [0.6666666666666666, \"#ed7953\"], [0.7777777777777778, \"#fb9f3a\"], [0.8888888888888888, \"#fdca26\"], [1.0, \"#f0f921\"]], \"type\": \"histogram2d\"}], \"histogram2dcontour\": [{\"colorbar\": {\"outlinewidth\": 0, \"ticks\": \"\"}, \"colorscale\": [[0.0, \"#0d0887\"], [0.1111111111111111, \"#46039f\"], [0.2222222222222222, \"#7201a8\"], [0.3333333333333333, \"#9c179e\"], [0.4444444444444444, \"#bd3786\"], [0.5555555555555556, \"#d8576b\"], [0.6666666666666666, \"#ed7953\"], [0.7777777777777778, \"#fb9f3a\"], [0.8888888888888888, \"#fdca26\"], [1.0, \"#f0f921\"]], \"type\": \"histogram2dcontour\"}], \"mesh3d\": [{\"colorbar\": {\"outlinewidth\": 0, \"ticks\": \"\"}, \"type\": \"mesh3d\"}], \"parcoords\": [{\"line\": {\"colorbar\": {\"outlinewidth\": 0, \"ticks\": \"\"}}, \"type\": \"parcoords\"}], \"pie\": [{\"automargin\": true, \"type\": \"pie\"}], \"scatter\": [{\"marker\": {\"colorbar\": {\"outlinewidth\": 0, \"ticks\": \"\"}}, \"type\": \"scatter\"}], \"scatter3d\": [{\"line\": {\"colorbar\": {\"outlinewidth\": 0, \"ticks\": \"\"}}, \"marker\": {\"colorbar\": {\"outlinewidth\": 0, \"ticks\": \"\"}}, \"type\": \"scatter3d\"}], \"scattercarpet\": [{\"marker\": {\"colorbar\": {\"outlinewidth\": 0, \"ticks\": \"\"}}, \"type\": \"scattercarpet\"}], \"scattergeo\": [{\"marker\": {\"colorbar\": {\"outlinewidth\": 0, \"ticks\": \"\"}}, \"type\": \"scattergeo\"}], \"scattergl\": [{\"marker\": {\"colorbar\": {\"outlinewidth\": 0, \"ticks\": \"\"}}, \"type\": \"scattergl\"}], \"scattermapbox\": [{\"marker\": {\"colorbar\": {\"outlinewidth\": 0, \"ticks\": \"\"}}, \"type\": \"scattermapbox\"}], \"scatterpolar\": [{\"marker\": {\"colorbar\": {\"outlinewidth\": 0, \"ticks\": \"\"}}, \"type\": \"scatterpolar\"}], \"scatterpolargl\": [{\"marker\": {\"colorbar\": {\"outlinewidth\": 0, \"ticks\": \"\"}}, \"type\": \"scatterpolargl\"}], \"scatterternary\": [{\"marker\": {\"colorbar\": {\"outlinewidth\": 0, \"ticks\": \"\"}}, \"type\": \"scatterternary\"}], \"surface\": [{\"colorbar\": {\"outlinewidth\": 0, \"ticks\": \"\"}, \"colorscale\": [[0.0, \"#0d0887\"], [0.1111111111111111, \"#46039f\"], [0.2222222222222222, \"#7201a8\"], [0.3333333333333333, \"#9c179e\"], [0.4444444444444444, \"#bd3786\"], [0.5555555555555556, \"#d8576b\"], [0.6666666666666666, \"#ed7953\"], [0.7777777777777778, \"#fb9f3a\"], [0.8888888888888888, \"#fdca26\"], [1.0, \"#f0f921\"]], \"type\": \"surface\"}], \"table\": [{\"cells\": {\"fill\": {\"color\": \"#EBF0F8\"}, \"line\": {\"color\": \"white\"}}, \"header\": {\"fill\": {\"color\": \"#C8D4E3\"}, \"line\": {\"color\": \"white\"}}, \"type\": \"table\"}]}, \"layout\": {\"annotationdefaults\": {\"arrowcolor\": \"#2a3f5f\", \"arrowhead\": 0, \"arrowwidth\": 1}, \"coloraxis\": {\"colorbar\": {\"outlinewidth\": 0, \"ticks\": \"\"}}, \"colorscale\": {\"diverging\": [[0, \"#8e0152\"], [0.1, \"#c51b7d\"], [0.2, \"#de77ae\"], [0.3, \"#f1b6da\"], [0.4, \"#fde0ef\"], [0.5, \"#f7f7f7\"], [0.6, \"#e6f5d0\"], [0.7, \"#b8e186\"], [0.8, \"#7fbc41\"], [0.9, \"#4d9221\"], [1, \"#276419\"]], \"sequential\": [[0.0, \"#0d0887\"], [0.1111111111111111, \"#46039f\"], [0.2222222222222222, \"#7201a8\"], [0.3333333333333333, \"#9c179e\"], [0.4444444444444444, \"#bd3786\"], [0.5555555555555556, \"#d8576b\"], [0.6666666666666666, \"#ed7953\"], [0.7777777777777778, \"#fb9f3a\"], [0.8888888888888888, \"#fdca26\"], [1.0, \"#f0f921\"]], \"sequentialminus\": [[0.0, \"#0d0887\"], [0.1111111111111111, \"#46039f\"], [0.2222222222222222, \"#7201a8\"], [0.3333333333333333, \"#9c179e\"], [0.4444444444444444, \"#bd3786\"], [0.5555555555555556, \"#d8576b\"], [0.6666666666666666, \"#ed7953\"], [0.7777777777777778, \"#fb9f3a\"], [0.8888888888888888, \"#fdca26\"], [1.0, \"#f0f921\"]]}, \"colorway\": [\"#636efa\", \"#EF553B\", \"#00cc96\", \"#ab63fa\", \"#FFA15A\", \"#19d3f3\", \"#FF6692\", \"#B6E880\", \"#FF97FF\", \"#FECB52\"], \"font\": {\"color\": \"#2a3f5f\"}, \"geo\": {\"bgcolor\": \"white\", \"lakecolor\": \"white\", \"landcolor\": \"#E5ECF6\", \"showlakes\": true, \"showland\": true, \"subunitcolor\": \"white\"}, \"hoverlabel\": {\"align\": \"left\"}, \"hovermode\": \"closest\", \"mapbox\": {\"style\": \"light\"}, \"paper_bgcolor\": \"white\", \"plot_bgcolor\": \"#E5ECF6\", \"polar\": {\"angularaxis\": {\"gridcolor\": \"white\", \"linecolor\": \"white\", \"ticks\": \"\"}, \"bgcolor\": \"#E5ECF6\", \"radialaxis\": {\"gridcolor\": \"white\", \"linecolor\": \"white\", \"ticks\": \"\"}}, \"scene\": {\"xaxis\": {\"backgroundcolor\": \"#E5ECF6\", \"gridcolor\": \"white\", \"gridwidth\": 2, \"linecolor\": \"white\", \"showbackground\": true, \"ticks\": \"\", \"zerolinecolor\": \"white\"}, \"yaxis\": {\"backgroundcolor\": \"#E5ECF6\", \"gridcolor\": \"white\", \"gridwidth\": 2, \"linecolor\": \"white\", \"showbackground\": true, \"ticks\": \"\", \"zerolinecolor\": \"white\"}, \"zaxis\": {\"backgroundcolor\": \"#E5ECF6\", \"gridcolor\": \"white\", \"gridwidth\": 2, \"linecolor\": \"white\", \"showbackground\": true, \"ticks\": \"\", \"zerolinecolor\": \"white\"}}, \"shapedefaults\": {\"line\": {\"color\": \"#2a3f5f\"}}, \"ternary\": {\"aaxis\": {\"gridcolor\": \"white\", \"linecolor\": \"white\", \"ticks\": \"\"}, \"baxis\": {\"gridcolor\": \"white\", \"linecolor\": \"white\", \"ticks\": \"\"}, \"bgcolor\": \"#E5ECF6\", \"caxis\": {\"gridcolor\": \"white\", \"linecolor\": \"white\", \"ticks\": \"\"}}, \"title\": {\"x\": 0.05}, \"xaxis\": {\"automargin\": true, \"gridcolor\": \"white\", \"linecolor\": \"white\", \"ticks\": \"\", \"title\": {\"standoff\": 15}, \"zerolinecolor\": \"white\", \"zerolinewidth\": 2}, \"yaxis\": {\"automargin\": true, \"gridcolor\": \"white\", \"linecolor\": \"white\", \"ticks\": \"\", \"title\": {\"standoff\": 15}, \"zerolinecolor\": \"white\", \"zerolinewidth\": 2}}}, \"title\": {\"font\": {\"color\": \"#4D5663\"}}, \"xaxis\": {\"gridcolor\": \"#E1E5ED\", \"showgrid\": true, \"tickfont\": {\"color\": \"#4D5663\"}, \"title\": {\"font\": {\"color\": \"#4D5663\"}, \"text\": \"\"}, \"zerolinecolor\": \"#E1E5ED\"}, \"yaxis\": {\"gridcolor\": \"#E1E5ED\", \"showgrid\": true, \"tickfont\": {\"color\": \"#4D5663\"}, \"title\": {\"font\": {\"color\": \"#4D5663\"}, \"text\": \"\"}, \"zerolinecolor\": \"#E1E5ED\"}},\n",
       "                        {\"showLink\": true, \"linkText\": \"Export to plot.ly\", \"plotlyServerURL\": \"https://plot.ly\", \"responsive\": true}\n",
       "                    ).then(function(){\n",
       "                            \n",
       "var gd = document.getElementById('fcf0c2c9-e03b-41db-91a5-41b755c8fb0f');\n",
       "var x = new MutationObserver(function (mutations, observer) {{\n",
       "        var display = window.getComputedStyle(gd).display;\n",
       "        if (!display || display === 'none') {{\n",
       "            console.log([gd, 'removed!']);\n",
       "            Plotly.purge(gd);\n",
       "            observer.disconnect();\n",
       "        }}\n",
       "}});\n",
       "\n",
       "// Listen for the removal of the full notebook cells\n",
       "var notebookContainer = gd.closest('#notebook-container');\n",
       "if (notebookContainer) {{\n",
       "    x.observe(notebookContainer, {childList: true});\n",
       "}}\n",
       "\n",
       "// Listen for the clearing of the current output cell\n",
       "var outputEl = gd.closest('.output');\n",
       "if (outputEl) {{\n",
       "    x.observe(outputEl, {childList: true});\n",
       "}}\n",
       "\n",
       "                        })\n",
       "                };\n",
       "                });\n",
       "            </script>\n",
       "        </div>"
      ]
     },
     "metadata": {},
     "output_type": "display_data"
    }
   ],
   "source": [
    "main(c)"
   ]
  },
  {
   "cell_type": "code",
   "execution_count": null,
   "metadata": {},
   "outputs": [],
   "source": []
  }
 ],
 "metadata": {
  "kernelspec": {
   "display_name": "Python 3",
   "language": "python",
   "name": "python3"
  },
  "language_info": {
   "codemirror_mode": {
    "name": "ipython",
    "version": 3
   },
   "file_extension": ".py",
   "mimetype": "text/x-python",
   "name": "python",
   "nbconvert_exporter": "python",
   "pygments_lexer": "ipython3",
   "version": "3.7.3"
  }
 },
 "nbformat": 4,
 "nbformat_minor": 2
}
